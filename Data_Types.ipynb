{
 "cells": [
  {
   "cell_type": "markdown",
   "id": "74be6e10-bc12-4cb6-903c-d6e9bc52f47e",
   "metadata": {},
   "source": [
    "Data Types"
   ]
  },
  {
   "cell_type": "code",
   "execution_count": 1,
   "id": "9e441326-deb6-41b1-a339-ccf7d25b106e",
   "metadata": {},
   "outputs": [
    {
     "data": {
      "text/plain": [
       "complex"
      ]
     },
     "execution_count": 1,
     "metadata": {},
     "output_type": "execute_result"
    }
   ],
   "source": [
    "type(3 + 5j)"
   ]
  },
  {
   "cell_type": "code",
   "execution_count": 4,
   "id": "3d1e2177-2d3f-4f63-9838-7bf2a0be74ff",
   "metadata": {},
   "outputs": [],
   "source": [
    "#Strings\n",
    "\n",
    "multiline = \"\"\"I am currently learning python\n",
    "to improve my data analytics skills.\n",
    "I have started to learn python on 28-07-2025.\"\"\""
   ]
  },
  {
   "cell_type": "code",
   "execution_count": 5,
   "id": "f905f7af-c4dc-4d7f-b093-2210b9217517",
   "metadata": {},
   "outputs": [
    {
     "name": "stdout",
     "output_type": "stream",
     "text": [
      "I am currently learning python\n",
      "to improve my data analytics skills.\n",
      "I have started to learn python on 28-07-2025.\n"
     ]
    }
   ],
   "source": [
    "print(multiline)"
   ]
  },
  {
   "cell_type": "code",
   "execution_count": 6,
   "id": "491cab0b-9d94-4dea-b662-e489cd1c1b45",
   "metadata": {},
   "outputs": [],
   "source": [
    "a = \"Hello World\""
   ]
  },
  {
   "cell_type": "code",
   "execution_count": 8,
   "id": "acb0dfd2-febb-42ab-8e39-1b22e07dbd2f",
   "metadata": {},
   "outputs": [
    {
     "name": "stdout",
     "output_type": "stream",
     "text": [
      "l\n",
      "o\n"
     ]
    }
   ],
   "source": [
    "print(a[3])\n",
    "print(a[-4])"
   ]
  },
  {
   "cell_type": "code",
   "execution_count": 9,
   "id": "029a5e65-62d3-4ac8-b60d-04733bda13c3",
   "metadata": {},
   "outputs": [
    {
     "data": {
      "text/plain": [
       "'Hello WorldHello WorldHello World'"
      ]
     },
     "execution_count": 9,
     "metadata": {},
     "output_type": "execute_result"
    }
   ],
   "source": [
    "a * 3"
   ]
  },
  {
   "cell_type": "code",
   "execution_count": null,
   "id": "0b611714-6b61-448f-95f7-94b2e6e43de5",
   "metadata": {},
   "outputs": [],
   "source": []
  },
  {
   "cell_type": "code",
   "execution_count": 12,
   "id": "df01ff56-ae04-43fc-b96c-e27ce730616c",
   "metadata": {},
   "outputs": [],
   "source": [
    "# list\n",
    "\n",
    "b = [1,2,3,4]"
   ]
  },
  {
   "cell_type": "code",
   "execution_count": 13,
   "id": "30375723-b0da-496c-b560-e5bf3241c355",
   "metadata": {},
   "outputs": [
    {
     "data": {
      "text/plain": [
       "2"
      ]
     },
     "execution_count": 13,
     "metadata": {},
     "output_type": "execute_result"
    }
   ],
   "source": [
    "b[1]"
   ]
  },
  {
   "cell_type": "code",
   "execution_count": 14,
   "id": "cc462d7a-85f7-4718-b9d3-aa0a4f70164a",
   "metadata": {},
   "outputs": [
    {
     "data": {
      "text/plain": [
       "['Chocolate', 5, ['Scoops', 9], True]"
      ]
     },
     "execution_count": 14,
     "metadata": {},
     "output_type": "execute_result"
    }
   ],
   "source": [
    "[\"Chocolate\", 5, [\"Scoops\", 9], True]"
   ]
  },
  {
   "cell_type": "code",
   "execution_count": 17,
   "id": "5dad366d-67dd-42bf-84da-9f3267ee4253",
   "metadata": {},
   "outputs": [
    {
     "data": {
      "text/plain": [
       "['Machines', 'Analog', 'Circuits', 'Maths']"
      ]
     },
     "execution_count": 17,
     "metadata": {},
     "output_type": "execute_result"
    }
   ],
   "source": [
    "subjects = [\"Machines\", \"Analog\", \"Circuits\"]\n",
    "subjects.append(\"Maths\")\n",
    "subjects"
   ]
  },
  {
   "cell_type": "code",
   "execution_count": 18,
   "id": "db7fe290-6b05-423a-80ad-bf42fafd5ed3",
   "metadata": {},
   "outputs": [
    {
     "data": {
      "text/plain": [
       "['Power System', 'Analog', 'Circuits', 'Maths']"
      ]
     },
     "execution_count": 18,
     "metadata": {},
     "output_type": "execute_result"
    }
   ],
   "source": [
    "subjects[0] = \"Power System\"\n",
    "subjects"
   ]
  },
  {
   "cell_type": "code",
   "execution_count": 19,
   "id": "ac3d2763-aadd-4d4f-a067-94f7b3ee4ee1",
   "metadata": {},
   "outputs": [],
   "source": [
    "nest_list = [\"Chocolate\", 5, [\"Scoops\", 9], True]"
   ]
  },
  {
   "cell_type": "code",
   "execution_count": 20,
   "id": "015eab43-d205-4296-bd5a-96f2ff442a0c",
   "metadata": {},
   "outputs": [
    {
     "data": {
      "text/plain": [
       "9"
      ]
     },
     "execution_count": 20,
     "metadata": {},
     "output_type": "execute_result"
    }
   ],
   "source": [
    "nest_list[2][1]"
   ]
  },
  {
   "cell_type": "code",
   "execution_count": 21,
   "id": "90ca35ef-0899-45da-92de-bc77345d3587",
   "metadata": {},
   "outputs": [
    {
     "data": {
      "text/plain": [
       "['Scoops', 9]"
      ]
     },
     "execution_count": 21,
     "metadata": {},
     "output_type": "execute_result"
    }
   ],
   "source": [
    "nest_list[2]"
   ]
  },
  {
   "cell_type": "code",
   "execution_count": 22,
   "id": "3de46aa7-e0e2-4024-aa2b-36c90b4477e6",
   "metadata": {},
   "outputs": [
    {
     "data": {
      "text/plain": [
       "'Chocolate'"
      ]
     },
     "execution_count": 22,
     "metadata": {},
     "output_type": "execute_result"
    }
   ],
   "source": [
    "nest_list[0]"
   ]
  },
  {
   "cell_type": "code",
   "execution_count": null,
   "id": "93790c02-e7e3-42fa-b34c-41dbce9949fd",
   "metadata": {},
   "outputs": [],
   "source": []
  },
  {
   "cell_type": "code",
   "execution_count": 23,
   "id": "e5f7aa5f-d142-40e6-ba89-e4217a8d4260",
   "metadata": {},
   "outputs": [],
   "source": [
    "# Tuple\n",
    "\n",
    "tuple_scoops = (1,2,3,4,5)"
   ]
  },
  {
   "cell_type": "code",
   "execution_count": 24,
   "id": "1c4cefeb-3e00-41a0-823c-e2980d952181",
   "metadata": {},
   "outputs": [
    {
     "data": {
      "text/plain": [
       "tuple"
      ]
     },
     "execution_count": 24,
     "metadata": {},
     "output_type": "execute_result"
    }
   ],
   "source": [
    "type(tuple_scoops)"
   ]
  },
  {
   "cell_type": "code",
   "execution_count": 25,
   "id": "ff904b6b-99d4-445e-a9bc-5f51b89c967c",
   "metadata": {},
   "outputs": [
    {
     "data": {
      "text/plain": [
       "3"
      ]
     },
     "execution_count": 25,
     "metadata": {},
     "output_type": "execute_result"
    }
   ],
   "source": [
    "tuple_scoops[2]"
   ]
  },
  {
   "cell_type": "code",
   "execution_count": null,
   "id": "db3f31b6-35ca-4c52-a6f2-31c7a1bacc58",
   "metadata": {},
   "outputs": [],
   "source": []
  },
  {
   "cell_type": "code",
   "execution_count": 26,
   "id": "b4900aea-9f03-4e60-8e92-82f75dd70138",
   "metadata": {},
   "outputs": [
    {
     "name": "stdout",
     "output_type": "stream",
     "text": [
      "{1, 2, 3, 4, 5, 6, 8, 9, 10}\n"
     ]
    }
   ],
   "source": [
    "# Sets\n",
    "\n",
    "daily_pints = {1,5,6,8,10,2,2,3,4,8,9,1}\n",
    "print(daily_pints)"
   ]
  },
  {
   "cell_type": "code",
   "execution_count": 27,
   "id": "84e8d350-815e-4bd0-809d-6601fd655218",
   "metadata": {},
   "outputs": [],
   "source": [
    "new_daily_pints = {1,5,6,7,7,10,11,15,19,3}"
   ]
  },
  {
   "cell_type": "code",
   "execution_count": 28,
   "id": "4263dd6a-a50a-44f1-aef8-65bef2626b91",
   "metadata": {},
   "outputs": [
    {
     "name": "stdout",
     "output_type": "stream",
     "text": [
      "{1, 2, 3, 4, 5, 6, 7, 8, 9, 10, 11, 15, 19}\n"
     ]
    }
   ],
   "source": [
    "print(daily_pints | new_daily_pints)"
   ]
  },
  {
   "cell_type": "code",
   "execution_count": 29,
   "id": "3792a7c0-a37a-40c3-8739-eb3134490642",
   "metadata": {},
   "outputs": [
    {
     "name": "stdout",
     "output_type": "stream",
     "text": [
      "{1, 3, 5, 6, 10}\n"
     ]
    }
   ],
   "source": [
    "print(daily_pints & new_daily_pints)"
   ]
  },
  {
   "cell_type": "code",
   "execution_count": 30,
   "id": "8e375358-ae00-4c69-8815-4620127ebbd6",
   "metadata": {},
   "outputs": [
    {
     "name": "stdout",
     "output_type": "stream",
     "text": [
      "{8, 9, 2, 4}\n"
     ]
    }
   ],
   "source": [
    "print(daily_pints - new_daily_pints)"
   ]
  },
  {
   "cell_type": "code",
   "execution_count": 31,
   "id": "186fb8f8-6bd7-49fb-9644-8800de7bcf57",
   "metadata": {},
   "outputs": [
    {
     "name": "stdout",
     "output_type": "stream",
     "text": [
      "{19, 11, 15, 7}\n"
     ]
    }
   ],
   "source": [
    "print(new_daily_pints - daily_pints)"
   ]
  },
  {
   "cell_type": "code",
   "execution_count": 32,
   "id": "2603e7ba-27e6-409a-acdf-56ea9559e286",
   "metadata": {},
   "outputs": [
    {
     "name": "stdout",
     "output_type": "stream",
     "text": [
      "{2, 4, 7, 8, 9, 11, 15, 19}\n"
     ]
    }
   ],
   "source": [
    "print(daily_pints ^ new_daily_pints)"
   ]
  },
  {
   "cell_type": "code",
   "execution_count": null,
   "id": "45461758-23da-4837-ae53-460cafc66109",
   "metadata": {},
   "outputs": [],
   "source": []
  },
  {
   "cell_type": "code",
   "execution_count": 33,
   "id": "c8c2eec1-cb79-4814-ae4f-bfd6c5a063fd",
   "metadata": {},
   "outputs": [],
   "source": [
    "# Dictionaries\n",
    "# Key/Value Pair\n",
    "\n",
    "dict_intro = {\"Name\": \"Obaid\", \"CG\" : 9.42, \"Favourite ice cream\" : [\"Chocolate\", \"MCC\"]}"
   ]
  },
  {
   "cell_type": "code",
   "execution_count": 34,
   "id": "30582e58-fdde-4747-b5aa-2565de44ee1f",
   "metadata": {},
   "outputs": [
    {
     "data": {
      "text/plain": [
       "{'Name': 'Obaid', 'CG': 9.42, 'Favourite ice cream': ['Chocolate', 'MCC']}"
      ]
     },
     "execution_count": 34,
     "metadata": {},
     "output_type": "execute_result"
    }
   ],
   "source": [
    "dict_intro"
   ]
  },
  {
   "cell_type": "code",
   "execution_count": 36,
   "id": "2447512a-8a1d-4c13-9f97-4203188d3319",
   "metadata": {},
   "outputs": [
    {
     "data": {
      "text/plain": [
       "dict_values(['Obaid', 9.42, ['Chocolate', 'MCC']])"
      ]
     },
     "execution_count": 36,
     "metadata": {},
     "output_type": "execute_result"
    }
   ],
   "source": [
    "dict_intro.values()"
   ]
  },
  {
   "cell_type": "code",
   "execution_count": 37,
   "id": "239ecef4-7970-4ed5-899c-94bb5876ed8a",
   "metadata": {},
   "outputs": [
    {
     "data": {
      "text/plain": [
       "dict_keys(['Name', 'CG', 'Favourite ice cream'])"
      ]
     },
     "execution_count": 37,
     "metadata": {},
     "output_type": "execute_result"
    }
   ],
   "source": [
    "dict_intro.keys()"
   ]
  },
  {
   "cell_type": "code",
   "execution_count": 39,
   "id": "7178429d-d3bf-48b8-9eba-6147b3615655",
   "metadata": {},
   "outputs": [
    {
     "data": {
      "text/plain": [
       "dict_items([('Name', 'Obaid'), ('CG', 9.42), ('Favourite ice cream', ['Chocolate', 'MCC'])])"
      ]
     },
     "execution_count": 39,
     "metadata": {},
     "output_type": "execute_result"
    }
   ],
   "source": [
    "dict_intro.items()"
   ]
  },
  {
   "cell_type": "code",
   "execution_count": 42,
   "id": "268e8d24-f044-4355-ac19-a0089c8fe54e",
   "metadata": {},
   "outputs": [
    {
     "data": {
      "text/plain": [
       "'Obaid'"
      ]
     },
     "execution_count": 42,
     "metadata": {},
     "output_type": "execute_result"
    }
   ],
   "source": [
    "dict_intro[\"Name\"]"
   ]
  },
  {
   "cell_type": "code",
   "execution_count": 43,
   "id": "4b27a7d3-1c96-4125-8e85-a87a547e9cd2",
   "metadata": {},
   "outputs": [],
   "source": [
    "dict_intro[\"Name\"] = \"Hassaan\""
   ]
  },
  {
   "cell_type": "code",
   "execution_count": 44,
   "id": "f7fb5edc-e167-4951-9673-0742b8630d7e",
   "metadata": {},
   "outputs": [
    {
     "data": {
      "text/plain": [
       "'Hassaan'"
      ]
     },
     "execution_count": 44,
     "metadata": {},
     "output_type": "execute_result"
    }
   ],
   "source": [
    "dict_intro[\"Name\"]"
   ]
  },
  {
   "cell_type": "code",
   "execution_count": 48,
   "id": "21fb0634-d7fe-4051-8f05-1e6c7cba79d4",
   "metadata": {},
   "outputs": [],
   "source": [
    "dict_intro.update({'Name': 'Obaid', 'CG': 9.43, 'Hobby': 'Sports'})"
   ]
  },
  {
   "cell_type": "code",
   "execution_count": 49,
   "id": "e599aeb4-7a0c-4e4b-9e31-3bb7b77adfb6",
   "metadata": {},
   "outputs": [
    {
     "data": {
      "text/plain": [
       "{'Name': 'Obaid',\n",
       " 'CG': 9.43,\n",
       " 'Favourite ice cream': ['Chocolate', 'MCC'],\n",
       " 'Hobby': 'Sports'}"
      ]
     },
     "execution_count": 49,
     "metadata": {},
     "output_type": "execute_result"
    }
   ],
   "source": [
    "dict_intro"
   ]
  },
  {
   "cell_type": "code",
   "execution_count": 50,
   "id": "a746a0e1-8998-4d32-8270-317303ee747a",
   "metadata": {},
   "outputs": [],
   "source": [
    "del dict_intro[\"Name\"]"
   ]
  },
  {
   "cell_type": "code",
   "execution_count": 51,
   "id": "ce867430-b0df-431f-b219-b2c837f1b7ee",
   "metadata": {},
   "outputs": [
    {
     "data": {
      "text/plain": [
       "{'CG': 9.43, 'Favourite ice cream': ['Chocolate', 'MCC'], 'Hobby': 'Sports'}"
      ]
     },
     "execution_count": 51,
     "metadata": {},
     "output_type": "execute_result"
    }
   ],
   "source": [
    "dict_intro"
   ]
  },
  {
   "cell_type": "code",
   "execution_count": null,
   "id": "ee749226-8b69-4111-855d-c9b37c1db608",
   "metadata": {},
   "outputs": [],
   "source": []
  },
  {
   "cell_type": "code",
   "execution_count": null,
   "id": "62bac8c2-c9b3-4b43-ade9-865210187795",
   "metadata": {},
   "outputs": [],
   "source": []
  },
  {
   "cell_type": "code",
   "execution_count": null,
   "id": "8dc1f0fd-15c5-4c04-8afc-4718e7be14b8",
   "metadata": {},
   "outputs": [],
   "source": []
  },
  {
   "cell_type": "code",
   "execution_count": null,
   "id": "11ef9465-be8d-4f66-bdaa-3e872986dda3",
   "metadata": {},
   "outputs": [],
   "source": []
  }
 ],
 "metadata": {
  "kernelspec": {
   "display_name": "Python 3 (ipykernel)",
   "language": "python",
   "name": "python3"
  },
  "language_info": {
   "codemirror_mode": {
    "name": "ipython",
    "version": 3
   },
   "file_extension": ".py",
   "mimetype": "text/x-python",
   "name": "python",
   "nbconvert_exporter": "python",
   "pygments_lexer": "ipython3",
   "version": "3.12.7"
  }
 },
 "nbformat": 4,
 "nbformat_minor": 5
}
