{
 "cells": [
  {
   "cell_type": "markdown",
   "id": "86211240-33f8-41fc-b4a6-f80d22aacfe0",
   "metadata": {},
   "source": [
    "BMI CALCULATOR"
   ]
  },
  {
   "cell_type": "code",
   "execution_count": null,
   "id": "edf771f5-b4e9-41b2-a3eb-326ead265199",
   "metadata": {},
   "outputs": [],
   "source": []
  },
  {
   "cell_type": "code",
   "execution_count": null,
   "id": "6a020b5b-e4d3-4903-bb0a-ba72ac842e09",
   "metadata": {},
   "outputs": [],
   "source": [
    "#BMI = weight in kg / height^2 in m"
   ]
  },
  {
   "cell_type": "code",
   "execution_count": null,
   "id": "63b061c4-c6cb-4ff0-a6b4-a0e9bb04e399",
   "metadata": {},
   "outputs": [],
   "source": []
  },
  {
   "cell_type": "code",
   "execution_count": 4,
   "id": "06f0e589-c42f-448b-b71c-4bf44686f5c2",
   "metadata": {},
   "outputs": [
    {
     "name": "stdin",
     "output_type": "stream",
     "text": [
      "Enter your weight in kg :  70\n",
      "Enter your height in cm :  175\n"
     ]
    },
    {
     "name": "stdout",
     "output_type": "stream",
     "text": [
      "22.857142857142858\n",
      "Normal weight\n"
     ]
    }
   ],
   "source": [
    "weight = int(input(\"Enter your weight in kg : \"))\n",
    "\n",
    "height = int(input(\"Enter your height in cm : \"))\n",
    "\n",
    "BMI = weight / (height * height * 0.0001)\n",
    "\n",
    "print(BMI)\n",
    "\n",
    "if BMI < 18.5:\n",
    "    print(\"Underweight\")\n",
    "elif BMI >= 18.5 and BMI < 24.9:\n",
    "    print(\"Normal weight\")\n",
    "elif BMI > 24.9 and BMI <= 29.9:\n",
    "    print(\"Overweight\")\n",
    "elif BMI >= 30 and BMI <= 34.9:\n",
    "    print(\"Obese\")\n",
    "elif BMI >= 35 and BMI <= 39.9:\n",
    "    print(\"Severely Obese\")\n",
    "elif BMI > 40:\n",
    "    print(\"Morbidly Obese\")\n",
    "else:\n",
    "    print(\"Enter valid inputs\")"
   ]
  },
  {
   "cell_type": "code",
   "execution_count": null,
   "id": "dc0dfae3-5c2e-4209-9648-15f97d1c36df",
   "metadata": {},
   "outputs": [],
   "source": []
  },
  {
   "cell_type": "code",
   "execution_count": null,
   "id": "0c8828d6-5826-4026-9775-43bda7e7ed9d",
   "metadata": {},
   "outputs": [],
   "source": []
  },
  {
   "cell_type": "code",
   "execution_count": null,
   "id": "f9f1ebf5-9cc0-408b-aa17-7caf900e31e3",
   "metadata": {},
   "outputs": [],
   "source": []
  },
  {
   "cell_type": "code",
   "execution_count": null,
   "id": "8000da7c-5f62-4882-a70e-a5815a182b68",
   "metadata": {},
   "outputs": [],
   "source": []
  },
  {
   "cell_type": "code",
   "execution_count": null,
   "id": "31144ce7-1ab8-420e-b550-4181c71e8582",
   "metadata": {},
   "outputs": [],
   "source": []
  },
  {
   "cell_type": "code",
   "execution_count": null,
   "id": "f73b10ae-e647-4965-bd91-2f0de05ac298",
   "metadata": {},
   "outputs": [],
   "source": []
  },
  {
   "cell_type": "code",
   "execution_count": null,
   "id": "d72c9beb-b532-460f-b3e5-6e47726cf002",
   "metadata": {},
   "outputs": [],
   "source": []
  },
  {
   "cell_type": "code",
   "execution_count": null,
   "id": "93aadcf9-610b-4184-befb-e588315b30b3",
   "metadata": {},
   "outputs": [],
   "source": []
  },
  {
   "cell_type": "code",
   "execution_count": null,
   "id": "14c8dbd8-4f65-4cbb-80af-f85a56e48815",
   "metadata": {},
   "outputs": [],
   "source": []
  },
  {
   "cell_type": "code",
   "execution_count": null,
   "id": "cd3a20bf-1f8e-46b4-9b9d-cf4cce3c3d18",
   "metadata": {},
   "outputs": [],
   "source": []
  },
  {
   "cell_type": "code",
   "execution_count": null,
   "id": "10d4bc00-e79b-4bb5-850a-3c3a0a13db19",
   "metadata": {},
   "outputs": [],
   "source": []
  },
  {
   "cell_type": "code",
   "execution_count": null,
   "id": "781d849c-019f-4722-b378-82bda932b85f",
   "metadata": {},
   "outputs": [],
   "source": []
  }
 ],
 "metadata": {
  "kernelspec": {
   "display_name": "Python 3 (ipykernel)",
   "language": "python",
   "name": "python3"
  },
  "language_info": {
   "codemirror_mode": {
    "name": "ipython",
    "version": 3
   },
   "file_extension": ".py",
   "mimetype": "text/x-python",
   "name": "python",
   "nbconvert_exporter": "python",
   "pygments_lexer": "ipython3",
   "version": "3.12.7"
  }
 },
 "nbformat": 4,
 "nbformat_minor": 5
}
