{
 "cells": [
  {
   "cell_type": "markdown",
   "id": "a5e68b1d-ca24-438b-b700-dbed39404888",
   "metadata": {},
   "source": [
    "AUTOMATED FILE SORTER"
   ]
  },
  {
   "cell_type": "code",
   "execution_count": 49,
   "id": "5ced3f42-ed68-44b9-82dd-a1d136c3b452",
   "metadata": {},
   "outputs": [],
   "source": [
    "import os, shutil"
   ]
  },
  {
   "cell_type": "code",
   "execution_count": 50,
   "id": "1a1fe640-7ce5-4d5b-b560-19309902cb40",
   "metadata": {},
   "outputs": [],
   "source": [
    "path = r\"D:/Python Tutorial/\""
   ]
  },
  {
   "cell_type": "code",
   "execution_count": 51,
   "id": "fa75f44a-df7f-465d-9c6e-05bfb0c4431e",
   "metadata": {},
   "outputs": [],
   "source": [
    "file_name = os.listdir(path)"
   ]
  },
  {
   "cell_type": "code",
   "execution_count": 52,
   "id": "13c17ba2-b71e-4b40-8e80-d869bc48ed94",
   "metadata": {},
   "outputs": [
    {
     "data": {
      "text/plain": [
       "['Data Cleaning Excel Tutorial.xlsx', 'excel files', 'img files', 'pdf']"
      ]
     },
     "execution_count": 52,
     "metadata": {},
     "output_type": "execute_result"
    }
   ],
   "source": [
    "os.listdir(path)"
   ]
  },
  {
   "cell_type": "code",
   "execution_count": 53,
   "id": "da26262a-8da6-4d8c-9c01-c2612dac2e92",
   "metadata": {},
   "outputs": [],
   "source": [
    "folder_names = ['img files', 'excel files', 'pdf']\n",
    "\n",
    "for loop in range(0,3):\n",
    "    if not os.path.exists(path + folder_names[loop]):\n",
    "        print(path + folder_names[loop])\n",
    "        os.makedirs(path + folder_names[loop])"
   ]
  },
  {
   "cell_type": "code",
   "execution_count": 55,
   "id": "dfb8d186-7020-4957-9434-c1309351aca1",
   "metadata": {},
   "outputs": [
    {
     "name": "stdout",
     "output_type": "stream",
     "text": [
      "These files were not moved\n",
      "These files were not moved\n",
      "These files were not moved\n",
      "These files were not moved\n"
     ]
    }
   ],
   "source": [
    "for file in file_name:\n",
    "    if \".pdf\" in file and not os.path.exists(path + 'pdf/' + file):\n",
    "        shutil.move(path + file, path + 'pdf/' + file)\n",
    "    elif \".jpg\" in file and not os.path.exists(path + 'img files/' + file):\n",
    "        shutil.move(path + file, path + 'img files/' + file)\n",
    "    elif \".xlsx\" in file and not os.path.exists(os.path.join(path, 'excel files', file)):\n",
    "        shutil.move(os.path.join(path, file),os.path.join(path, 'excel files', file))\n",
    "    else:\n",
    "        print(\"These files were not moved\")"
   ]
  },
  {
   "cell_type": "code",
   "execution_count": null,
   "id": "aa62ac1a-3409-4c24-a838-634132f09f20",
   "metadata": {},
   "outputs": [],
   "source": []
  },
  {
   "cell_type": "code",
   "execution_count": null,
   "id": "3c50e853-ffc9-4661-8994-7680895f8447",
   "metadata": {},
   "outputs": [],
   "source": []
  },
  {
   "cell_type": "code",
   "execution_count": null,
   "id": "db7adf0d-eb42-4bbf-a734-bc2779aabfa0",
   "metadata": {},
   "outputs": [],
   "source": []
  },
  {
   "cell_type": "code",
   "execution_count": null,
   "id": "afa4ac12-7654-4930-8983-c746891b20ad",
   "metadata": {},
   "outputs": [],
   "source": []
  },
  {
   "cell_type": "code",
   "execution_count": null,
   "id": "5ade53fa-1617-472f-8938-6f5e8c1bbc20",
   "metadata": {},
   "outputs": [],
   "source": []
  },
  {
   "cell_type": "code",
   "execution_count": null,
   "id": "c6de3e88-7096-41fc-b8ae-1647d078bed3",
   "metadata": {},
   "outputs": [],
   "source": []
  },
  {
   "cell_type": "code",
   "execution_count": null,
   "id": "90c8a5f5-2c43-4d7a-a1ab-b333df83191a",
   "metadata": {},
   "outputs": [],
   "source": []
  }
 ],
 "metadata": {
  "kernelspec": {
   "display_name": "Python 3 (ipykernel)",
   "language": "python",
   "name": "python3"
  },
  "language_info": {
   "codemirror_mode": {
    "name": "ipython",
    "version": 3
   },
   "file_extension": ".py",
   "mimetype": "text/x-python",
   "name": "python",
   "nbconvert_exporter": "python",
   "pygments_lexer": "ipython3",
   "version": "3.13.5"
  }
 },
 "nbformat": 4,
 "nbformat_minor": 5
}
