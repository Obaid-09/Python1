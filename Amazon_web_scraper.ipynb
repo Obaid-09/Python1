{
 "cells": [
  {
   "cell_type": "markdown",
   "id": "a013bdc0-d041-4827-9881-54481f892c30",
   "metadata": {},
   "source": [
    "AMAZON WEB SCRAPING"
   ]
  },
  {
   "cell_type": "code",
   "execution_count": 2,
   "id": "29e827fc-9fd3-43e6-8451-def0a4130917",
   "metadata": {},
   "outputs": [],
   "source": [
    "import pandas as pd\n",
    "from bs4 import BeautifulSoup\n",
    "import requests\n",
    "import time\n",
    "import datetime\n",
    "import smtplib\n"
   ]
  },
  {
   "cell_type": "code",
   "execution_count": 11,
   "id": "34f766f1-3ba3-4cd7-b3a1-83afe5c26c10",
   "metadata": {},
   "outputs": [
    {
     "name": "stdout",
     "output_type": "stream",
     "text": [
      "\n",
      "                    969\n",
      "                    \n",
      "                     .\n",
      "                    \n",
      "\n",
      "\n",
      "                  Barcelona away Black Sports Jersey & Shorts 2024/25 -StadiumEX\n",
      "                 \n"
     ]
    }
   ],
   "source": [
    "# Connect to websites\n",
    "url = 'https://www.amazon.in/Barcelona-Training-Sports-Jersey-StadiumEX/dp/B0B9JWH4BJ/ref=sr_1_42?crid=2ZC922WYQJMV5&dib=eyJ2IjoiMSJ9.wHe4M3r8ytDFHQDPpqMIptV179RzLcMO6QhxOsH_jpEdlP3EnKMHk0hPN0Gio2u5eKhy7q4O1Cgw_tMyNGjThdRL-Vobi31LyjtKi15RKINrLhNshXXim9ZRbcG9vw6y-mrUcBJXAsa5CZNLeOnKCKWN1V3S0q3YenhrD4JnFixSgNOhcWLGcfxJ5UIdILDenOZhfNqtZHwNRC7WN1ZIIC1aQAnuZ4IKKUIfxWKAk12vjowJUxxxK70Agg-SsTZh1Lj96E_J2iw916_nVbXsUc4-gpya66MNIReLEK0_kq8.aVpkEso-yx04j_ncRSV8Yc1MNlU5G1rJL31AhUnIZms&dib_tag=se&keywords=football%2Bjersey%2Bfor%2Bman&qid=1754123163&sprefix=football%2Caps%2C244&sr=8-42&th=1&psc=1'\n",
    "headers = {\"User-Agent\": \"Mozilla/5.0 (Windows NT 10.0; Win64; x64) AppleWebKit/537.36 (KHTML, like Gecko) Chrome/138.0.0.0 Safari/537.36\"}\n",
    "\n",
    "page = requests.get(url, headers = headers)\n",
    "\n",
    "soup1 = BeautifulSoup(page.content, 'html.parser')\n",
    "soup2 = BeautifulSoup(soup1.prettify(), 'html.parser')\n",
    "\n",
    "title = soup2.find(id = \"productTitle\").get_text()\n",
    "\n",
    "price = soup2.find(class_ = \"a-price-whole\").get_text()\n",
    "\n",
    "print(price)\n",
    "print(title)\n"
   ]
  },
  {
   "cell_type": "code",
   "execution_count": 15,
   "id": "1e0bfab5-28df-4236-826b-97ce65677f2f",
   "metadata": {},
   "outputs": [
    {
     "name": "stdout",
     "output_type": "stream",
     "text": [
      "969\n",
      "Barcelona away Black Sports Jersey & Shorts 2024/25 -StadiumEX\n"
     ]
    }
   ],
   "source": [
    "price = price.strip()[0:3]\n",
    "title = title.strip()\n",
    "print(price)\n",
    "print(title)"
   ]
  },
  {
   "cell_type": "code",
   "execution_count": null,
   "id": "f04e6ddf-27a1-41d3-991b-f9585daa800b",
   "metadata": {},
   "outputs": [],
   "source": []
  },
  {
   "cell_type": "code",
   "execution_count": 18,
   "id": "9a617353-881a-4fc3-83dd-db6f32f73f81",
   "metadata": {},
   "outputs": [
    {
     "name": "stdout",
     "output_type": "stream",
     "text": [
      "2025-08-02\n"
     ]
    }
   ],
   "source": [
    "import datetime\n",
    "\n",
    "today = datetime.date.today()\n",
    "print(today)"
   ]
  },
  {
   "cell_type": "code",
   "execution_count": null,
   "id": "4403d256-4b44-49ba-b6fa-2ed3735a2d45",
   "metadata": {},
   "outputs": [],
   "source": []
  },
  {
   "cell_type": "code",
   "execution_count": 21,
   "id": "6ffb9088-d5b5-4986-86ce-b41c1fd84315",
   "metadata": {},
   "outputs": [],
   "source": [
    "import csv\n",
    "\n",
    "header = ['Title', 'Price', 'Date']\n",
    "data = [title, price, today]\n",
    "\n",
    "#with open('AmazonWebScraper.csv', 'w', newline = '', encoding = 'UTF8') as f:\n",
    "    #writer = csv.writer(f)\n",
    "    #writer.writerow(header)\n",
    "    #writer.writerow(data)\n",
    "\n"
   ]
  },
  {
   "cell_type": "code",
   "execution_count": 26,
   "id": "3ec59c60-c2ef-457e-9979-7b6e6d42320b",
   "metadata": {},
   "outputs": [
    {
     "name": "stdout",
     "output_type": "stream",
     "text": [
      "                                               Title  Price        Date\n",
      "0  Barcelona away Black Sports Jersey & Shorts 20...    969  2025-08-02\n",
      "1  Barcelona away Black Sports Jersey & Shorts 20...    969  2025-08-02\n",
      "2  Barcelona away Black Sports Jersey & Shorts 20...    969  2025-08-02\n"
     ]
    }
   ],
   "source": [
    "import pandas as pd\n",
    "\n",
    "df = pd.read_csv(r'C:\\Users\\Sufyaan ANS7\\AmazonWebScraper.csv')\n",
    "\n",
    "print(df)"
   ]
  },
  {
   "cell_type": "code",
   "execution_count": null,
   "id": "14b429db-3627-4767-9e08-e61e9605c89e",
   "metadata": {},
   "outputs": [],
   "source": []
  },
  {
   "cell_type": "code",
   "execution_count": 25,
   "id": "0ff85b86-5b08-4f3c-8272-93efa2ec53c3",
   "metadata": {},
   "outputs": [],
   "source": [
    "# To append data\n",
    "\n",
    "with open('AmazonWebScraper.csv', 'a+', newline = '', encoding = 'UTF8') as f:\n",
    "    writer = csv.writer(f)\n",
    "    writer.writerow(data)"
   ]
  },
  {
   "cell_type": "code",
   "execution_count": null,
   "id": "488b50bc-c9f1-425c-8b08-aa1cbe5ec0b7",
   "metadata": {},
   "outputs": [],
   "source": []
  },
  {
   "cell_type": "code",
   "execution_count": 33,
   "id": "e3f9cdaa-63b5-4abf-ae06-79cb4c7e7e74",
   "metadata": {},
   "outputs": [],
   "source": [
    "def check_price():\n",
    "    url = 'https://www.amazon.in/Barcelona-Training-Sports-Jersey-StadiumEX/dp/B0B9JWH4BJ/ref=sr_1_42?crid=2ZC922WYQJMV5&dib=eyJ2IjoiMSJ9.wHe4M3r8ytDFHQDPpqMIptV179RzLcMO6QhxOsH_jpEdlP3EnKMHk0hPN0Gio2u5eKhy7q4O1Cgw_tMyNGjThdRL-Vobi31LyjtKi15RKINrLhNshXXim9ZRbcG9vw6y-mrUcBJXAsa5CZNLeOnKCKWN1V3S0q3YenhrD4JnFixSgNOhcWLGcfxJ5UIdILDenOZhfNqtZHwNRC7WN1ZIIC1aQAnuZ4IKKUIfxWKAk12vjowJUxxxK70Agg-SsTZh1Lj96E_J2iw916_nVbXsUc4-gpya66MNIReLEK0_kq8.aVpkEso-yx04j_ncRSV8Yc1MNlU5G1rJL31AhUnIZms&dib_tag=se&keywords=football%2Bjersey%2Bfor%2Bman&qid=1754123163&sprefix=football%2Caps%2C244&sr=8-42&th=1&psc=1'\n",
    "    headers = {\"User-Agent\": \"Mozilla/5.0 (Windows NT 10.0; Win64; x64) AppleWebKit/537.36 (KHTML, like Gecko) Chrome/138.0.0.0 Safari/537.36\"}\n",
    "\n",
    "    page = requests.get(url, headers = headers)\n",
    "    soup1 = BeautifulSoup(page.content, 'html.parser')\n",
    "    soup2 = BeautifulSoup(soup1.prettify(), 'html.parser')\n",
    "    title = soup2.find(id = \"productTitle\").get_text()\n",
    "    price = soup2.find(class_ = \"a-price-whole\").get_text()\n",
    "    price = price.strip()[0:3]\n",
    "    title = title.strip()\n",
    "\n",
    "    import datetime\n",
    "    today = datetime.date.today()\n",
    "\n",
    "    import csv\n",
    "    header = ['Title', 'Price', 'Date']\n",
    "    data = [title, price, today]\n",
    "    \n",
    "    with open('AmazonWebScraper.csv', 'a', newline = '', encoding = 'UTF8') as f:\n",
    "        writer = csv.writer(f)\n",
    "        writer.writerow(data)"
   ]
  },
  {
   "cell_type": "code",
   "execution_count": 34,
   "id": "1b87471c-920e-4c7d-8578-da7bf0866067",
   "metadata": {},
   "outputs": [
    {
     "ename": "KeyboardInterrupt",
     "evalue": "",
     "output_type": "error",
     "traceback": [
      "\u001b[1;31m---------------------------------------------------------------------------\u001b[0m",
      "\u001b[1;31mKeyboardInterrupt\u001b[0m                         Traceback (most recent call last)",
      "Cell \u001b[1;32mIn[34], line 3\u001b[0m\n\u001b[0;32m      1\u001b[0m \u001b[38;5;28;01mwhile\u001b[39;00m(\u001b[38;5;28;01mTrue\u001b[39;00m):\n\u001b[0;32m      2\u001b[0m     check_price()\n\u001b[1;32m----> 3\u001b[0m     time\u001b[38;5;241m.\u001b[39msleep(\u001b[38;5;241m5\u001b[39m)\n",
      "\u001b[1;31mKeyboardInterrupt\u001b[0m: "
     ]
    }
   ],
   "source": [
    "while(True):\n",
    "    check_price()\n",
    "    time.sleep(5)"
   ]
  },
  {
   "cell_type": "code",
   "execution_count": 36,
   "id": "1ae7be2d-dfdb-4b26-b2f8-42724839759e",
   "metadata": {},
   "outputs": [
    {
     "name": "stdout",
     "output_type": "stream",
     "text": [
      "                                               Title  \\\n",
      "0  Barcelona away Black Sports Jersey & Shorts 20...   \n",
      "1  Barcelona away Black Sports Jersey & Shorts 20...   \n",
      "2  Barcelona away Black Sports Jersey & Shorts 20...   \n",
      "3  \\n                  Barcelona away Black Sport...   \n",
      "4  \\n                  Barcelona away Black Sport...   \n",
      "5  Barcelona away Black Sports Jersey & Shorts 20...   \n",
      "6  Barcelona away Black Sports Jersey & Shorts 20...   \n",
      "7  Barcelona away Black Sports Jersey & Shorts 20...   \n",
      "8  Barcelona away Black Sports Jersey & Shorts 20...   \n",
      "\n",
      "                                               Price        Date  \n",
      "0                                                969  2025-08-02  \n",
      "1                                                969  2025-08-02  \n",
      "2                                                969  2025-08-02  \n",
      "3  \\n                    969\\n                   ...  2025-08-02  \n",
      "4  \\n                    969\\n                   ...  2025-08-02  \n",
      "5                                                969  2025-08-02  \n",
      "6                                                969  2025-08-02  \n",
      "7                                                969  2025-08-02  \n",
      "8                                                969  2025-08-02  \n"
     ]
    }
   ],
   "source": [
    "import pandas as pd\n",
    "\n",
    "df = pd.read_csv(r'C:\\Users\\Sufyaan ANS7\\AmazonWebScraper.csv')\n",
    "\n",
    "print(df)\n",
    "\n",
    "# The empty spaces came as we were using a+"
   ]
  },
  {
   "cell_type": "code",
   "execution_count": null,
   "id": "bcadebd7-53e2-43ae-b0d6-08e3ad7d9469",
   "metadata": {},
   "outputs": [],
   "source": []
  },
  {
   "cell_type": "code",
   "execution_count": null,
   "id": "1766abdd-88d6-49cb-bad5-c19ea688c9b6",
   "metadata": {},
   "outputs": [],
   "source": []
  },
  {
   "cell_type": "code",
   "execution_count": null,
   "id": "42e4e729-cab7-4b55-877b-c0aea28186d2",
   "metadata": {},
   "outputs": [],
   "source": []
  },
  {
   "cell_type": "code",
   "execution_count": null,
   "id": "02ee2d35-0e96-4ec9-8038-3f9bdb0d4621",
   "metadata": {},
   "outputs": [],
   "source": []
  },
  {
   "cell_type": "code",
   "execution_count": null,
   "id": "aee12f86-5d5f-4a89-b5ad-462dfd7a705c",
   "metadata": {},
   "outputs": [],
   "source": []
  },
  {
   "cell_type": "code",
   "execution_count": null,
   "id": "513f6233-5dba-4827-bdc5-42747fd49c0f",
   "metadata": {},
   "outputs": [],
   "source": []
  },
  {
   "cell_type": "code",
   "execution_count": null,
   "id": "fc3918b6-0063-4244-b6c2-b490bf0d0104",
   "metadata": {},
   "outputs": [],
   "source": []
  },
  {
   "cell_type": "code",
   "execution_count": null,
   "id": "839b2724-a4ff-47f9-a096-51848aa4c2b4",
   "metadata": {},
   "outputs": [],
   "source": []
  },
  {
   "cell_type": "code",
   "execution_count": null,
   "id": "b788a3b8-c718-4be7-8463-af1113e6118e",
   "metadata": {},
   "outputs": [],
   "source": []
  },
  {
   "cell_type": "code",
   "execution_count": null,
   "id": "801663db-1bd5-4e44-9fea-512c1255885f",
   "metadata": {},
   "outputs": [],
   "source": []
  },
  {
   "cell_type": "code",
   "execution_count": null,
   "id": "4c4de03f-2b28-48f4-8fae-493a86a82c83",
   "metadata": {},
   "outputs": [],
   "source": []
  },
  {
   "cell_type": "code",
   "execution_count": null,
   "id": "4cf371e1-4593-4adc-8a7c-cb09c1c8c240",
   "metadata": {},
   "outputs": [],
   "source": []
  },
  {
   "cell_type": "code",
   "execution_count": null,
   "id": "f0333166-1fb8-449c-a5a7-1f0724cd7c5c",
   "metadata": {},
   "outputs": [],
   "source": []
  },
  {
   "cell_type": "code",
   "execution_count": null,
   "id": "e5335b7c-6a9d-401f-8fd4-dd1f78dfc4d2",
   "metadata": {},
   "outputs": [],
   "source": []
  },
  {
   "cell_type": "code",
   "execution_count": null,
   "id": "36d1aee1-e5a1-4be1-a456-c358de3dd9cc",
   "metadata": {},
   "outputs": [],
   "source": []
  },
  {
   "cell_type": "code",
   "execution_count": null,
   "id": "572378aa-dead-4c5a-8b4e-24a64263d368",
   "metadata": {},
   "outputs": [],
   "source": []
  },
  {
   "cell_type": "code",
   "execution_count": null,
   "id": "d58bf75a-4d29-445b-9e63-4b1c7831b77a",
   "metadata": {},
   "outputs": [],
   "source": []
  },
  {
   "cell_type": "code",
   "execution_count": null,
   "id": "fad80d43-b589-4d83-9b04-53cf47f32dfe",
   "metadata": {},
   "outputs": [],
   "source": []
  },
  {
   "cell_type": "code",
   "execution_count": null,
   "id": "72b997ac-0142-45e6-b9dd-c3be5d08913a",
   "metadata": {},
   "outputs": [],
   "source": []
  },
  {
   "cell_type": "code",
   "execution_count": null,
   "id": "86ccf9e4-1fbd-4122-a8c6-d29b8d803c37",
   "metadata": {},
   "outputs": [],
   "source": []
  },
  {
   "cell_type": "code",
   "execution_count": null,
   "id": "b8d64209-6ac3-4036-93db-91f3c80c91ec",
   "metadata": {},
   "outputs": [],
   "source": []
  }
 ],
 "metadata": {
  "kernelspec": {
   "display_name": "Python 3 (ipykernel)",
   "language": "python",
   "name": "python3"
  },
  "language_info": {
   "codemirror_mode": {
    "name": "ipython",
    "version": 3
   },
   "file_extension": ".py",
   "mimetype": "text/x-python",
   "name": "python",
   "nbconvert_exporter": "python",
   "pygments_lexer": "ipython3",
   "version": "3.13.5"
  }
 },
 "nbformat": 4,
 "nbformat_minor": 5
}
