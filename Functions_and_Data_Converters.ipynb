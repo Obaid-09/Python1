{
 "cells": [
  {
   "cell_type": "markdown",
   "id": "96418f0b-35aa-478c-8730-5c6df76dc01e",
   "metadata": {},
   "source": [
    "FUNCTIONS"
   ]
  },
  {
   "cell_type": "code",
   "execution_count": null,
   "id": "33926f40-f4d9-4b83-b39c-e6bf363a402b",
   "metadata": {},
   "outputs": [],
   "source": []
  },
  {
   "cell_type": "code",
   "execution_count": 1,
   "id": "9362974a-04af-4062-97c7-b429d8e2c156",
   "metadata": {},
   "outputs": [],
   "source": [
    "def num_square(i):\n",
    "    print(i * i)"
   ]
  },
  {
   "cell_type": "code",
   "execution_count": 2,
   "id": "54576c54-6cd6-48ed-815c-5d3547997619",
   "metadata": {},
   "outputs": [
    {
     "name": "stdout",
     "output_type": "stream",
     "text": [
      "25\n"
     ]
    }
   ],
   "source": [
    "num_square(5)"
   ]
  },
  {
   "cell_type": "code",
   "execution_count": 3,
   "id": "902447b8-1db2-4aa8-b546-b113b5c5aa0a",
   "metadata": {},
   "outputs": [],
   "source": [
    "def num_power(i, j):\n",
    "    print(i ** j)"
   ]
  },
  {
   "cell_type": "code",
   "execution_count": 4,
   "id": "118c87d4-02cf-4fec-869c-46091c619003",
   "metadata": {},
   "outputs": [
    {
     "name": "stdout",
     "output_type": "stream",
     "text": [
      "729\n"
     ]
    }
   ],
   "source": [
    "num_power(9, 3)"
   ]
  },
  {
   "cell_type": "code",
   "execution_count": null,
   "id": "2cdab13b-65ce-4733-85f8-f05155737e0a",
   "metadata": {},
   "outputs": [],
   "source": []
  },
  {
   "cell_type": "code",
   "execution_count": 5,
   "id": "4f706f10-7390-441f-8f7d-90a34a84ecfe",
   "metadata": {},
   "outputs": [],
   "source": [
    "def number_args(*number):\n",
    "    print(number[0] * number[1])"
   ]
  },
  {
   "cell_type": "code",
   "execution_count": 6,
   "id": "80763ce1-077c-4e60-b154-acaae5970305",
   "metadata": {},
   "outputs": [
    {
     "name": "stdout",
     "output_type": "stream",
     "text": [
      "30\n"
     ]
    }
   ],
   "source": [
    "number_args(5,6,1,2,8)"
   ]
  },
  {
   "cell_type": "code",
   "execution_count": 9,
   "id": "f4f3c23a-bf95-46ba-8e45-b2f1bab7d310",
   "metadata": {},
   "outputs": [],
   "source": [
    "strings_tuple = (\"Obaid\", \"Hassaan\", \"Sports\")\n",
    "\n",
    "def string_args(*args):\n",
    "    print(args[1])"
   ]
  },
  {
   "cell_type": "code",
   "execution_count": 10,
   "id": "8eb10ff1-f121-4ce0-ac94-01eeb19ced01",
   "metadata": {},
   "outputs": [
    {
     "name": "stdout",
     "output_type": "stream",
     "text": [
      "Hassaan\n"
     ]
    }
   ],
   "source": [
    "string_args(*strings_tuple)"
   ]
  },
  {
   "cell_type": "code",
   "execution_count": null,
   "id": "3c6909b8-ddac-47ea-80cc-86d30a23fa46",
   "metadata": {},
   "outputs": [],
   "source": []
  },
  {
   "cell_type": "code",
   "execution_count": null,
   "id": "2bcbac0c-9381-4e0a-9c5c-c43af3f8d9de",
   "metadata": {},
   "outputs": [],
   "source": [
    "def num_power(i, j):\n",
    "    print(i ** j)"
   ]
  },
  {
   "cell_type": "code",
   "execution_count": 11,
   "id": "69c26bae-0abc-442e-852b-667071bae48a",
   "metadata": {},
   "outputs": [
    {
     "name": "stdout",
     "output_type": "stream",
     "text": [
      "19683\n"
     ]
    }
   ],
   "source": [
    "num_power(j = 9, i = 3)"
   ]
  },
  {
   "cell_type": "code",
   "execution_count": null,
   "id": "dac490e1-3c29-4fdb-9d16-95de3c8ff5a2",
   "metadata": {},
   "outputs": [],
   "source": []
  },
  {
   "cell_type": "code",
   "execution_count": null,
   "id": "02661bf6-7644-4cf5-86ba-34ba65da7593",
   "metadata": {},
   "outputs": [],
   "source": []
  },
  {
   "cell_type": "markdown",
   "id": "a78025ca-a5d7-42c8-a4ad-b8740b3bbe79",
   "metadata": {},
   "source": [
    "CONVERTING DATA TYPES"
   ]
  },
  {
   "cell_type": "code",
   "execution_count": 12,
   "id": "06533e63-7606-4bd7-b084-76125bd99a1b",
   "metadata": {},
   "outputs": [],
   "source": [
    "num_int = 9"
   ]
  },
  {
   "cell_type": "code",
   "execution_count": 13,
   "id": "c2d63632-f222-4cb8-ae45-1afeeda1392f",
   "metadata": {},
   "outputs": [],
   "source": [
    "num_str = '8'"
   ]
  },
  {
   "cell_type": "code",
   "execution_count": 14,
   "id": "9dd141e2-7825-413f-b9bf-53030c6197c4",
   "metadata": {},
   "outputs": [],
   "source": [
    "num_sum = num_int + int(num_str)"
   ]
  },
  {
   "cell_type": "code",
   "execution_count": 15,
   "id": "2787d77f-251b-4ce3-87b2-230edfe1a49a",
   "metadata": {},
   "outputs": [
    {
     "name": "stdout",
     "output_type": "stream",
     "text": [
      "17\n"
     ]
    }
   ],
   "source": [
    "print(num_sum)"
   ]
  },
  {
   "cell_type": "code",
   "execution_count": null,
   "id": "1094db0c-ee16-4a73-ba21-761eff461670",
   "metadata": {},
   "outputs": [],
   "source": []
  },
  {
   "cell_type": "code",
   "execution_count": 19,
   "id": "8e21baf9-0dd5-420f-a9a3-e32f940cd66c",
   "metadata": {},
   "outputs": [
    {
     "data": {
      "text/plain": [
       "list"
      ]
     },
     "execution_count": 19,
     "metadata": {},
     "output_type": "execute_result"
    }
   ],
   "source": [
    "list_type = [1,2,3,5,63,91,5,2]\n",
    "\n",
    "type(list_type)"
   ]
  },
  {
   "cell_type": "code",
   "execution_count": 17,
   "id": "9c02eaec-179d-471c-921b-91ae526f96a9",
   "metadata": {},
   "outputs": [
    {
     "data": {
      "text/plain": [
       "tuple"
      ]
     },
     "execution_count": 17,
     "metadata": {},
     "output_type": "execute_result"
    }
   ],
   "source": [
    "type(tuple(list_type))"
   ]
  },
  {
   "cell_type": "code",
   "execution_count": 20,
   "id": "9b3e87d4-6512-400c-a145-08f4b5c30580",
   "metadata": {},
   "outputs": [
    {
     "data": {
      "text/plain": [
       "{1, 2, 3, 5, 63, 91}"
      ]
     },
     "execution_count": 20,
     "metadata": {},
     "output_type": "execute_result"
    }
   ],
   "source": [
    "set(list_type)"
   ]
  },
  {
   "cell_type": "code",
   "execution_count": null,
   "id": "ba194f9b-312a-4901-a08b-b6d520006047",
   "metadata": {},
   "outputs": [],
   "source": []
  },
  {
   "cell_type": "code",
   "execution_count": 21,
   "id": "30885fe7-cbad-479d-8198-a43ace6ecb2f",
   "metadata": {},
   "outputs": [
    {
     "data": {
      "text/plain": [
       "dict"
      ]
     },
     "execution_count": 21,
     "metadata": {},
     "output_type": "execute_result"
    }
   ],
   "source": [
    "dict_type = {'name' : 'Obaid', 'CG' : 9.43}\n",
    "\n",
    "type(dict_type)"
   ]
  },
  {
   "cell_type": "code",
   "execution_count": 22,
   "id": "4700eed6-37eb-46cb-8ff9-cf442b936ffa",
   "metadata": {},
   "outputs": [
    {
     "data": {
      "text/plain": [
       "dict_values(['Obaid', 9.43])"
      ]
     },
     "execution_count": 22,
     "metadata": {},
     "output_type": "execute_result"
    }
   ],
   "source": [
    "dict_type.values()"
   ]
  },
  {
   "cell_type": "code",
   "execution_count": 23,
   "id": "d5991a74-bbb2-4bd9-aca4-20426fe6bc00",
   "metadata": {},
   "outputs": [
    {
     "data": {
      "text/plain": [
       "dict_keys(['name', 'CG'])"
      ]
     },
     "execution_count": 23,
     "metadata": {},
     "output_type": "execute_result"
    }
   ],
   "source": [
    "dict_type.keys()"
   ]
  },
  {
   "cell_type": "code",
   "execution_count": 26,
   "id": "ec0651e9-40ca-4b70-9e16-72c7012bcf93",
   "metadata": {},
   "outputs": [
    {
     "data": {
      "text/plain": [
       "list"
      ]
     },
     "execution_count": 26,
     "metadata": {},
     "output_type": "execute_result"
    }
   ],
   "source": [
    "type(list(dict_type.keys()))"
   ]
  },
  {
   "cell_type": "code",
   "execution_count": null,
   "id": "a8cabd73-a9f3-41ab-b269-e11b24bb9980",
   "metadata": {},
   "outputs": [],
   "source": []
  },
  {
   "cell_type": "code",
   "execution_count": 27,
   "id": "1b4889c2-c8f8-4827-a52b-e86caa6c967a",
   "metadata": {},
   "outputs": [
    {
     "data": {
      "text/plain": [
       "['I', ' ', 'l', 'i', 'k', 'e', ' ', 'c', 'o', 'd', 'i', 'n', 'g']"
      ]
     },
     "execution_count": 27,
     "metadata": {},
     "output_type": "execute_result"
    }
   ],
   "source": [
    "long_str = \"I like coding\"\n",
    "\n",
    "list(long_str)"
   ]
  },
  {
   "cell_type": "code",
   "execution_count": null,
   "id": "bca86bf4-51ab-4676-971d-dc2f312cefcd",
   "metadata": {},
   "outputs": [],
   "source": []
  },
  {
   "cell_type": "code",
   "execution_count": null,
   "id": "dd1576b5-725b-430a-a306-305600f9736f",
   "metadata": {},
   "outputs": [],
   "source": []
  },
  {
   "cell_type": "code",
   "execution_count": null,
   "id": "e15c7a14-b6da-455c-bff5-004bae08e3ff",
   "metadata": {},
   "outputs": [],
   "source": []
  },
  {
   "cell_type": "code",
   "execution_count": null,
   "id": "1b57cd37-a250-426f-9401-473577ef4006",
   "metadata": {},
   "outputs": [],
   "source": []
  }
 ],
 "metadata": {
  "kernelspec": {
   "display_name": "Python 3 (ipykernel)",
   "language": "python",
   "name": "python3"
  },
  "language_info": {
   "codemirror_mode": {
    "name": "ipython",
    "version": 3
   },
   "file_extension": ".py",
   "mimetype": "text/x-python",
   "name": "python",
   "nbconvert_exporter": "python",
   "pygments_lexer": "ipython3",
   "version": "3.12.7"
  }
 },
 "nbformat": 4,
 "nbformat_minor": 5
}
